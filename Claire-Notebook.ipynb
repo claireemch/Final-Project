{
 "cells": [
  {
   "cell_type": "markdown",
   "metadata": {},
   "source": [
    "##Water Feature Analysis"
   ]
  },
  {
   "cell_type": "code",
   "execution_count": 4,
   "metadata": {},
   "outputs": [
    {
     "data": {
      "text/html": [
       "<div>\n",
       "<style scoped>\n",
       "    .dataframe tbody tr th:only-of-type {\n",
       "        vertical-align: middle;\n",
       "    }\n",
       "\n",
       "    .dataframe tbody tr th {\n",
       "        vertical-align: top;\n",
       "    }\n",
       "\n",
       "    .dataframe thead th {\n",
       "        text-align: right;\n",
       "    }\n",
       "</style>\n",
       "<table border=\"1\" class=\"dataframe\">\n",
       "  <thead>\n",
       "    <tr style=\"text-align: right;\">\n",
       "      <th></th>\n",
       "      <th>id</th>\n",
       "      <th>name</th>\n",
       "      <th>control_type</th>\n",
       "      <th>feature_type</th>\n",
       "      <th>inactive</th>\n",
       "      <th>make</th>\n",
       "      <th>image</th>\n",
       "      <th>neighborhood</th>\n",
       "      <th>council_district</th>\n",
       "      <th>ward</th>\n",
       "      <th>tract</th>\n",
       "      <th>public_works_division</th>\n",
       "      <th>pli_division</th>\n",
       "      <th>police_zone</th>\n",
       "      <th>fire_zone</th>\n",
       "      <th>latitude</th>\n",
       "      <th>longitude</th>\n",
       "    </tr>\n",
       "  </thead>\n",
       "  <tbody>\n",
       "    <tr>\n",
       "      <th>0</th>\n",
       "      <td>1816791851</td>\n",
       "      <td>Able Long Park</td>\n",
       "      <td>Continuous</td>\n",
       "      <td>Drinking Fountain</td>\n",
       "      <td>f</td>\n",
       "      <td>Regular Fountain</td>\n",
       "      <td>https://tools.wprdc.org/images/pittsburgh/wate...</td>\n",
       "      <td>Beechview</td>\n",
       "      <td>4</td>\n",
       "      <td>19</td>\n",
       "      <td>42003192000</td>\n",
       "      <td>5</td>\n",
       "      <td>19</td>\n",
       "      <td>6</td>\n",
       "      <td>4-28</td>\n",
       "      <td>40.408440</td>\n",
       "      <td>-80.028330</td>\n",
       "    </tr>\n",
       "    <tr>\n",
       "      <th>1</th>\n",
       "      <td>1599892422</td>\n",
       "      <td>Albert Turk Graham Park</td>\n",
       "      <td>On/Off</td>\n",
       "      <td>Drinking Fountain</td>\n",
       "      <td>f</td>\n",
       "      <td>Most Dependable</td>\n",
       "      <td>https://tools.wprdc.org/images/pittsburgh/wate...</td>\n",
       "      <td>Crawford-Roberts</td>\n",
       "      <td>6</td>\n",
       "      <td>3</td>\n",
       "      <td>42003030500</td>\n",
       "      <td>3</td>\n",
       "      <td>3</td>\n",
       "      <td>2</td>\n",
       "      <td>2-1</td>\n",
       "      <td>40.440453</td>\n",
       "      <td>-79.984064</td>\n",
       "    </tr>\n",
       "    <tr>\n",
       "      <th>2</th>\n",
       "      <td>1422043278</td>\n",
       "      <td>Allegheny Commons Arch St</td>\n",
       "      <td>Continuous</td>\n",
       "      <td>Drinking Fountain</td>\n",
       "      <td>f</td>\n",
       "      <td>Regular Fountain</td>\n",
       "      <td>https://tools.wprdc.org/images/pittsburgh/wate...</td>\n",
       "      <td>Allegheny Center</td>\n",
       "      <td>1</td>\n",
       "      <td>22</td>\n",
       "      <td>42003562700</td>\n",
       "      <td>1</td>\n",
       "      <td>22</td>\n",
       "      <td>1</td>\n",
       "      <td>1-7</td>\n",
       "      <td>40.454390</td>\n",
       "      <td>-80.008281</td>\n",
       "    </tr>\n",
       "    <tr>\n",
       "      <th>3</th>\n",
       "      <td>1237191582</td>\n",
       "      <td>Allegheny Commons East Tennis Courts</td>\n",
       "      <td>Continuous</td>\n",
       "      <td>Drinking Fountain</td>\n",
       "      <td>f</td>\n",
       "      <td>Regular Fountain</td>\n",
       "      <td>https://tools.wprdc.org/images/pittsburgh/wate...</td>\n",
       "      <td>Allegheny Center</td>\n",
       "      <td>1</td>\n",
       "      <td>22</td>\n",
       "      <td>42003562700</td>\n",
       "      <td>1</td>\n",
       "      <td>22</td>\n",
       "      <td>1</td>\n",
       "      <td>1-6</td>\n",
       "      <td>40.450874</td>\n",
       "      <td>-80.001962</td>\n",
       "    </tr>\n",
       "    <tr>\n",
       "      <th>4</th>\n",
       "      <td>1146184773</td>\n",
       "      <td>Allegheny Commons Pool</td>\n",
       "      <td>Continuous</td>\n",
       "      <td>Drinking Fountain</td>\n",
       "      <td>f</td>\n",
       "      <td>Regular Fountain</td>\n",
       "      <td>https://tools.wprdc.org/images/pittsburgh/wate...</td>\n",
       "      <td>Allegheny Center</td>\n",
       "      <td>1</td>\n",
       "      <td>22</td>\n",
       "      <td>42003562700</td>\n",
       "      <td>1</td>\n",
       "      <td>22</td>\n",
       "      <td>1</td>\n",
       "      <td>1-6</td>\n",
       "      <td>40.451003</td>\n",
       "      <td>-80.001502</td>\n",
       "    </tr>\n",
       "  </tbody>\n",
       "</table>\n",
       "</div>"
      ],
      "text/plain": [
       "           id                                  name control_type  \\\n",
       "0  1816791851                        Able Long Park   Continuous   \n",
       "1  1599892422               Albert Turk Graham Park       On/Off   \n",
       "2  1422043278             Allegheny Commons Arch St   Continuous   \n",
       "3  1237191582  Allegheny Commons East Tennis Courts   Continuous   \n",
       "4  1146184773                Allegheny Commons Pool   Continuous   \n",
       "\n",
       "        feature_type inactive              make  \\\n",
       "0  Drinking Fountain        f  Regular Fountain   \n",
       "1  Drinking Fountain        f   Most Dependable   \n",
       "2  Drinking Fountain        f  Regular Fountain   \n",
       "3  Drinking Fountain        f  Regular Fountain   \n",
       "4  Drinking Fountain        f  Regular Fountain   \n",
       "\n",
       "                                               image      neighborhood  \\\n",
       "0  https://tools.wprdc.org/images/pittsburgh/wate...         Beechview   \n",
       "1  https://tools.wprdc.org/images/pittsburgh/wate...  Crawford-Roberts   \n",
       "2  https://tools.wprdc.org/images/pittsburgh/wate...  Allegheny Center   \n",
       "3  https://tools.wprdc.org/images/pittsburgh/wate...  Allegheny Center   \n",
       "4  https://tools.wprdc.org/images/pittsburgh/wate...  Allegheny Center   \n",
       "\n",
       "   council_district  ward        tract  public_works_division  pli_division  \\\n",
       "0                 4    19  42003192000                      5            19   \n",
       "1                 6     3  42003030500                      3             3   \n",
       "2                 1    22  42003562700                      1            22   \n",
       "3                 1    22  42003562700                      1            22   \n",
       "4                 1    22  42003562700                      1            22   \n",
       "\n",
       "   police_zone fire_zone   latitude  longitude  \n",
       "0            6      4-28  40.408440 -80.028330  \n",
       "1            2       2-1  40.440453 -79.984064  \n",
       "2            1       1-7  40.454390 -80.008281  \n",
       "3            1       1-6  40.450874 -80.001962  \n",
       "4            1       1-6  40.451003 -80.001502  "
      ]
     },
     "execution_count": 4,
     "metadata": {},
     "output_type": "execute_result"
    }
   ],
   "source": [
    "# Import Pandas\n",
    "import pandas as pd\n",
    "import numpy as np\n",
    "\n",
    "water_features_pandas = pd.read_csv(\"water features.csv\") # bring in data set\n",
    "\n",
    "water_features_pandas.head(5)"
   ]
  },
  {
   "cell_type": "markdown",
   "metadata": {},
   "source": [
    "For this data set, the reason we chose to analyze this is because often times dogs like to play and engage with new features around neighborhoods. One of them being water features. Things like fountains, small pools, and public spaces with water features can be engaging and helpful for dogs to hydrate along their walks"
   ]
  },
  {
   "cell_type": "code",
   "execution_count": 10,
   "metadata": {},
   "outputs": [
    {
     "data": {
      "text/plain": [
       "0    False\n",
       "1    False\n",
       "2    False\n",
       "3    False\n",
       "4    False\n",
       "Name: feature_type, dtype: bool"
      ]
     },
     "execution_count": 10,
     "metadata": {},
     "output_type": "execute_result"
    }
   ],
   "source": [
    "query_mask = water_features_pandas['feature_type'] == \"Spray\"\n",
    "\n",
    "query_mask.head(5)\n",
    "\n",
    "#To observe the specific feature we wanted to calcuate, I created a query mask over the feature type section to only observe\n",
    "# the neighborhoods with \"spray\" features. These would be more acomodating for dogs because they are unable to reach most drinking fountains,\n",
    "# and would not be allowed to play in decorative fountains. First, I just observed the first 5 data points to see if they had spray features\n",
    "# to make sure the mask was working"
   ]
  },
  {
   "cell_type": "code",
   "execution_count": 11,
   "metadata": {},
   "outputs": [
    {
     "data": {
      "text/plain": [
       "East Liberty                2\n",
       "Morningside                 2\n",
       "Bedford Dwellings           2\n",
       "Spring Hill-City View       2\n",
       "South Side Flats            2\n",
       "Brighton Heights            1\n",
       "Bloomfield                  1\n",
       "Central Lawrenceville       1\n",
       "South Oakland               1\n",
       "West End                    1\n",
       "Windgap                     1\n",
       "Lincoln-Lemington-Belmar    1\n",
       "Swisshelm Park              1\n",
       "Polish Hill                 1\n",
       "Larimer                     1\n",
       "Terrace Village             1\n",
       "Brookline                   1\n",
       "Duquesne Heights            1\n",
       "Garfield                    1\n",
       "Name: neighborhood, dtype: int64"
      ]
     },
     "execution_count": 11,
     "metadata": {},
     "output_type": "execute_result"
    }
   ],
   "source": [
    "spray_features = water_features_pandas[query_mask]\n",
    "spray_features['neighborhood'].value_counts()\n",
    "\n",
    "# Next, I created a name for the query mask being \"spray features\" and sorted the list by neighborhoods. I did this to see which neighborhoods\n",
    "# had the most amount of spray features. The neighborhoods with the highest number of spray features are at the top and descend. "
   ]
  },
  {
   "cell_type": "code",
   "execution_count": 9,
   "metadata": {},
   "outputs": [
    {
     "data": {
      "text/plain": [
       "<matplotlib.axes._subplots.AxesSubplot at 0x7fec1105eeb0>"
      ]
     },
     "execution_count": 9,
     "metadata": {},
     "output_type": "execute_result"
    },
    {
     "data": {
      "image/png": "[encoded data removed]",
      "text/plain": [
       "<Figure size 432x288 with 1 Axes>"
      ]
     },
     "metadata": {
      "needs_background": "light"
     },
     "output_type": "display_data"
    }
   ],
   "source": [
    "spray_features['neighborhood'].value_counts().sort_index().plot(kind='bar')\n",
    "\n",
    "# Last, I took this information and plotted it into a bar graph. The neighborhoods are in alphabetical order along the x axis and \n",
    "# the y axis is the amount of spray features per neighborhood. "
   ]
  },
  {
   "cell_type": "markdown",
   "metadata": {},
   "source": [
    "As observed from this graph, there are 5 neighborhoods with more than 1 feature. This is important to note because in reality, the more times a dog is able to recieve water during a walk the better. "
   ]
  },
  {
   "cell_type": "code",
   "execution_count": null,
   "metadata": {},
   "outputs": [],
   "source": []
  }
 ],
 "metadata": {
  "kernelspec": {
   "display_name": "Python 3",
   "language": "python",
   "name": "python3"
  },
  "language_info": {
   "codemirror_mode": {
    "name": "ipython",
    "version": 3
   },
   "file_extension": ".py",
   "mimetype": "text/x-python",
   "name": "python",
   "nbconvert_exporter": "python",
   "pygments_lexer": "ipython3",
   "version": "3.8.3"
  }
 },
 "nbformat": 4,
 "nbformat_minor": 4
}
