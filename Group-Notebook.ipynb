{
 "cells": [
  {
   "cell_type": "markdown",
   "metadata": {},
   "source": [
    "# Introduction:\n",
    "\n",
    "For our project we decided to explore the best neighborhood to live in if you are a dog!\n",
    "\n",
    "# The Metric:\n",
    "\n",
    "We felt that the best way to combine the different types of data was to rank the elements in each data set out of 10\n",
    "\n",
    "# The Best Neighborhood:\n",
    "\n",
    "We found out that the best neighborhood to live in as a dog was South Side Flats. That's because it recieved a total of 23 out of 30 possible points for the three combined sets.\n",
    "It recieved a 10 out of 10 for having water features.\n",
    "It also recieved an 8 out of 10 for tree count.\n",
    "However, it only recieved a 5 out of 10 for parks.\n",
    "Despite having a lower score in park counts, South Side Flats still achieved the highest overall score compared to the other neighborhoods.\n",
    "\n",
    "# Conclusion:\n",
    "\n"
   ]
  },
  {
   "cell_type": "code",
   "execution_count": null,
   "metadata": {},
   "outputs": [],
   "source": []
  }
 ],
 "metadata": {
  "kernelspec": {
   "display_name": "Python 3",
   "language": "python",
   "name": "python3"
  },
  "language_info": {
   "codemirror_mode": {
    "name": "ipython",
    "version": 3
   },
   "file_extension": ".py",
   "mimetype": "text/x-python",
   "name": "python",
   "nbconvert_exporter": "python",
   "pygments_lexer": "ipython3",
   "version": "3.8.3"
  }
 },
 "nbformat": 4,
 "nbformat_minor": 4
}
