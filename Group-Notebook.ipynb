{
 "cells": [
  {
   "cell_type": "markdown",
   "metadata": {},
   "source": [
    "# Introduction:\n",
    "\n",
    "For our project we decided to explore the best neighborhood to live in if you are a dog!\n",
    "\n",
    "# The Metric:\n",
    "\n",
    "We felt that the best way to combine the different types of data was to rank the elements in each data set out of 10. The best neighborhood will be the neighborhood with the highest score out of 30. This factors in the number of parks, trees, and water features each neighborhood has and these factors would be most important to a dog.\n",
    "\n",
    "# The Best Neighborhood:\n",
    "\n",
    "We found out that the best neighborhood to live in as a dog was South Side Flats. That's because it recieved a total of 23 out of 30 possible points for the three combined sets.\n",
    "It recieved a 10 out of 10 for having water features.\n",
    "It also recieved an 8 out of 10 for tree count.\n",
    "However, it only recieved a 5 out of 10 for parks.\n",
    "Despite having a lower score in park counts, South Side Flats still achieved the highest overall score compared to the other neighborhoods.\n",
    "\n",
    "# Conclusion:\n",
    "\n",
    "Maya's Favorite Neighborhood: My personal favorite neighborhood would be the Central Business District because it includes all of downtown Pittsburgh! I love visiting there with my friends when it is nice out. I discovered my favorite coffee shop in market square, plus this past fall there was an open-air market held at market square where I met very nice vendors and bought some of my favorite jewelry. Being able to see the three rivers intersect at Point State Park is also very cool! These things make the Central Business District most exciting to me, but I am fairly confident that a dog would not enjoy the coffee and jewelry shops as much as I do. It makes sense for me and a dog to have different favorite neighborhoods because we value things differently. South Side Flats is definitley a great neighborhood for a dog to live in."
   ]
  },
  {
   "cell_type": "markdown",
   "metadata": {},
   "source": [
    "![](https://imgur.com/a/KzkOMDt)"
   ]
  },
  {
   "cell_type": "markdown",
   "metadata": {},
   "source": [
    "![title](../img/"
   ]
  },
  {
   "cell_type": "code",
   "execution_count": null,
   "metadata": {},
   "outputs": [],
   "source": []
  }
 ],
 "metadata": {
  "kernelspec": {
   "display_name": "Python 3",
   "language": "python",
   "name": "python3"
  },
  "language_info": {
   "codemirror_mode": {
    "name": "ipython",
    "version": 3
   },
   "file_extension": ".py",
   "mimetype": "text/x-python",
   "name": "python",
   "nbconvert_exporter": "python",
   "pygments_lexer": "ipython3",
   "version": "3.8.3"
  }
 },
 "nbformat": 4,
 "nbformat_minor": 4
}
