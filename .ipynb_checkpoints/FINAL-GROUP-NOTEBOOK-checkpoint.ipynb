{
 "cells": [
  {
   "cell_type": "markdown",
   "metadata": {},
   "source": [
    "# Group Notebook"
   ]
  },
  {
   "cell_type": "markdown",
   "metadata": {},
   "source": [
    "## Introduction:\n",
    "For our project we decided to explore the best neighborhood to live in if you are a dog!"
   ]
  },
  {
   "cell_type": "markdown",
   "metadata": {},
   "source": [
    "## The Metric:\n",
    "We felt that the best way to combine the different types of data was to rank the elements in each data set out of 10. The best neighborhood will be the neighborhood with the highest score out of 30. This factors in the number of parks, trees, and water features each neighborhood has and these factors would be most important to a dog."
   ]
  },
  {
   "cell_type": "markdown",
   "metadata": {},
   "source": [
    "## The Best Neighborhood:\n",
    "We found out that the best neighborhood to live in as a dog was South Side Flats. That's because it recieved a total of 23 out of 30 possible points for the three combined sets. It recieved a 10 out of 10 for having water features. It also recieved an 8 out of 10 for tree count. However, it only recieved a 5 out of 10 for parks. Despite having a lower score in park counts, South Side Flats still achieved the highest overall score compared to the other neighborhoods."
   ]
  },
  {
   "cell_type": "code",
   "execution_count": 2,
   "metadata": {},
   "outputs": [],
   "source": [
    "# Import Pandas\n",
    "import pandas as pd\n",
    "import numpy as np\n",
    "%matplotlib inline\n",
    "import matplotlib.pyplot as plt\n",
    "import math\n",
    "#setting up water features data(copied from Claire-Notebook)\n",
    "water_features_pandas = pd.read_csv(\"water features.csv\") # bring in data set\n",
    "query_mask = water_features_pandas['feature_type'] == \"Spray\"\n",
    "spray_features = water_features_pandas[query_mask]\n",
    "pq = spray_features['neighborhood'].value_counts().copy()\n",
    "r = [x[1] * 5 for x in pq.iteritems()]\n",
    "r_dict = {\"neighborhood\": [x[0] for x in pq.iteritems()], \"points out of 10\" : [x[1] * 5 for x in pq.iteritems()] }\n",
    "df8 = pd.DataFrame(r_dict)\n",
    "\n",
    "#setting up parks data(copied from Maya-Notebook)\n",
    "data = pd.read_csv(\"parks.csv\")\n",
    "park_mask = data[\"type\"]== \"Park\"\n",
    "parks = data[park_mask]\n",
    "num_parks = parks[\"neighborhood\"].value_counts()\n",
    "data = pd.DataFrame(num_parks)\n",
    "data[\"values\"] = data[\"neighborhood\"]\n",
    "data[\"neighborhood\"] = data.index\n",
    "data = data.reset_index(drop=True)\n",
    "park_scores_dict={\"neighborhood\": [x[0] for x in num_parks.iteritems()], \"points out of 10\": [math.floor(x[1]*(5/3)) for x in num_parks.iteritems()]}\n",
    "park_scores=pd.DataFrame(park_scores_dict)\n",
    "\n",
    "#setting up trees data(copied from Elio-Notebook)\n",
    "info = pd.read_csv(\"trees.csv\" , index_col = \"id\", low_memory=False)\n",
    "df = pd.DataFrame(info)\n",
    "park_mask_tree = df[\"land_use\"]== \"Park\"\n",
    "parks_trees = df[park_mask_tree]\n",
    "tc = parks_trees[\"neighborhood\"].value_counts()\n",
    "tree_dict = {\"neighborhood\": [x[0] for x in tc.iteritems()], \"points out of 10\" : [math.floor(x[1] * (10/128)) for x in tc.iteritems()] }\n",
    "tree_df = pd.DataFrame(tree_dict)"
   ]
  },
  {
   "cell_type": "code",
   "execution_count": 6,
   "metadata": {},
   "outputs": [
    {
     "ename": "TypeError",
     "evalue": "sort_values() missing 1 required positional argument: 'by'",
     "output_type": "error",
     "traceback": [
      "\u001b[0;31m---------------------------------------------------------------------------\u001b[0m",
      "\u001b[0;31mTypeError\u001b[0m                                 Traceback (most recent call last)",
      "\u001b[0;32m<ipython-input-6-954e7637c06c>\u001b[0m in \u001b[0;36m<module>\u001b[0;34m\u001b[0m\n\u001b[1;32m     43\u001b[0m \u001b[0mfinalDF\u001b[0m \u001b[0;34m=\u001b[0m \u001b[0mpd\u001b[0m\u001b[0;34m.\u001b[0m\u001b[0mDataFrame\u001b[0m\u001b[0;34m(\u001b[0m\u001b[0mfinal_dict\u001b[0m\u001b[0;34m)\u001b[0m\u001b[0;34m\u001b[0m\u001b[0;34m\u001b[0m\u001b[0m\n\u001b[1;32m     44\u001b[0m \u001b[0mfinalDF\u001b[0m \u001b[0;34m=\u001b[0m \u001b[0mfinalDF\u001b[0m\u001b[0;34m.\u001b[0m\u001b[0mgroupby\u001b[0m\u001b[0;34m(\u001b[0m\u001b[0;34m\"Neighborhood\"\u001b[0m\u001b[0;34m)\u001b[0m\u001b[0;34m.\u001b[0m\u001b[0mcount\u001b[0m\u001b[0;34m(\u001b[0m\u001b[0;34m)\u001b[0m\u001b[0;34m\u001b[0m\u001b[0;34m\u001b[0m\u001b[0m\n\u001b[0;32m---> 45\u001b[0;31m \u001b[0mfinalDF\u001b[0m \u001b[0;34m=\u001b[0m \u001b[0mfinalDF\u001b[0m\u001b[0;34m.\u001b[0m\u001b[0msort_values\u001b[0m\u001b[0;34m(\u001b[0m\u001b[0;34m)\u001b[0m\u001b[0;34m\u001b[0m\u001b[0;34m\u001b[0m\u001b[0m\n\u001b[0m\u001b[1;32m     46\u001b[0m \u001b[0mfinalDF\u001b[0m\u001b[0;34m\u001b[0m\u001b[0;34m\u001b[0m\u001b[0m\n",
      "\u001b[0;32m/opt/tljh/user/lib/python3.8/site-packages/pandas/util/_decorators.py\u001b[0m in \u001b[0;36mwrapper\u001b[0;34m(*args, **kwargs)\u001b[0m\n\u001b[1;32m    309\u001b[0m                     \u001b[0mstacklevel\u001b[0m\u001b[0;34m=\u001b[0m\u001b[0mstacklevel\u001b[0m\u001b[0;34m,\u001b[0m\u001b[0;34m\u001b[0m\u001b[0;34m\u001b[0m\u001b[0m\n\u001b[1;32m    310\u001b[0m                 )\n\u001b[0;32m--> 311\u001b[0;31m             \u001b[0;32mreturn\u001b[0m \u001b[0mfunc\u001b[0m\u001b[0;34m(\u001b[0m\u001b[0;34m*\u001b[0m\u001b[0margs\u001b[0m\u001b[0;34m,\u001b[0m \u001b[0;34m**\u001b[0m\u001b[0mkwargs\u001b[0m\u001b[0;34m)\u001b[0m\u001b[0;34m\u001b[0m\u001b[0;34m\u001b[0m\u001b[0m\n\u001b[0m\u001b[1;32m    312\u001b[0m \u001b[0;34m\u001b[0m\u001b[0m\n\u001b[1;32m    313\u001b[0m         \u001b[0;32mreturn\u001b[0m \u001b[0mwrapper\u001b[0m\u001b[0;34m\u001b[0m\u001b[0;34m\u001b[0m\u001b[0m\n",
      "\u001b[0;31mTypeError\u001b[0m: sort_values() missing 1 required positional argument: 'by'"
     ]
    }
   ],
   "source": [
    "scores_dict = { } #this is a new dictionary that will contain all of the scores for each neighborhood out of 30\n",
    "\n",
    "#for each data set we loop through the data set. Not all of the data sets have the same neighborhoods included in them, \n",
    "#some have more neigborhoods than others. So, IF the neighborhood is not in the dictionary yet, the code adds the \n",
    "#neighborhood to the keys in the dictionary and adds the score that that neighborhood has out of ten. ELSE(meaning the\n",
    "#neighborhood is already in the dictionary), the score value is updated for that neighborhood. After the third loop,\n",
    "#the scores_dict contains each neighborhoods score out of 30.\n",
    "\n",
    "#adding parks scores by neighborhood\n",
    "for index, row in park_scores.iterrows(): \n",
    "    neighborhood = row[\"neighborhood\"]\n",
    "    score = row[\"points out of 10\"]\n",
    "    if neighborhood in scores_dict.keys():\n",
    "        scores_dict[neighborhood]=scores_dict.get(neighborhood)+score\n",
    "    else:\n",
    "        scores_dict[neighborhood]= score\n",
    "\n",
    "#adding water features scores by neighborhood\n",
    "for index, row in df8.iterrows():\n",
    "    neighborhood = row[\"neighborhood\"]\n",
    "    score = row[\"points out of 10\"]\n",
    "    if neighborhood in scores_dict.keys():\n",
    "        scores_dict[neighborhood]=scores_dict.get(neighborhood)+score\n",
    "    else:\n",
    "        scores_dict[neighborhood]= score\n",
    "\n",
    "#adding trees scores by neighborhood\n",
    "for index, row in tree_df.iterrows():\n",
    "    neighborhood = row[\"neighborhood\"]\n",
    "    score = row[\"points out of 10\"]\n",
    "    if neighborhood in scores_dict.keys():\n",
    "        scores_dict[neighborhood]=scores_dict.get(neighborhood)+score\n",
    "    else:\n",
    "        scores_dict[neighborhood]= score\n",
    "#scores_dict\n",
    "neighborhoods = []\n",
    "scores = []\n",
    "for key in scores_dict:\n",
    "    neighborhoods.append(key)\n",
    "    scores.append(scores_dict[key])\n",
    "    \n",
    "final_dict = {\"Neighborhood\":neighborhoods, \"Score Out Of 30\":scores}\n",
    "finalDF = pd.DataFrame(final_dict)\n",
    "finalDF = finalDF.groupby(\"Neighborhood\").count()\n",
    "finalDF = finalDF.sort_values([\"Score Out Of 30\"], ascending=False)\n",
    "finalDF"
   ]
  },
  {
   "cell_type": "markdown",
   "metadata": {},
   "source": [
    "## Conclusion:\n",
    "The best neighborhood for a dog to live in is South Side Flats because it recieved the highest score of 23/30. It has the best access to parks, trees, and water features out of all the neighborhoods.\n",
    "\n",
    "Our favorite neighborhoods:\n",
    "\n",
    "Maya's Favorite Neighborhood: My personal favorite neighborhood would be the Central Business District because it includes all of downtown Pittsburgh! I love visiting there with my friends when it is nice out. I discovered my favorite coffee shop in market square, plus this past fall there was an open-air market held at market square where I met very nice vendors and bought some of my favorite jewelry. Being able to see the three rivers intersect at Point State Park is also very cool! These things make the Central Business District most exciting to me, but I am fairly confident that a dog would not enjoy the coffee and jewelry shops as much as I do. It makes sense for me and a dog to have different favorite neighborhoods because we value things differently. South Side Flats is definitley a great neighborhood for a dog to live in.\n",
    "\n",
    "Claire's Favorite Neighborhood: Personally, I have loved living in North Oakland during my time at Pitt. Before coming to school here I had never visited any of the neighborhoods in the Pittsburgh area so I have loved exploring a few of the different areas. Around November last semester, I went to Shadyside to walk around the Chatham University campus for a project for another class and see the neighborhood and I really enjoyed that. However, North Oakland has been nothing but wonderful for me as a student for all of my needs. Convenience stores, plently of restaraunts to explore, and wonderful nature in Schenley Park to enjoy have made living here an amazing experience. Hail to Pitt!\n",
    "\n",
    "Elio's Favorite Neighborhood: I have been to shady side a couple of times and I really like the atmosphere. Bakery square is a nice place to hang out with friends, especially during summer. Additionally, I like where shadyside is located. It's conviently close to the city. So, you can attend any events happening at the city or just visit the city for a change. Lastly, Shadyside is super close to Schenley park as well. You can go for a walk, play pcikle ball, hammock, and many more."
   ]
  },
  {
   "cell_type": "code",
   "execution_count": null,
   "metadata": {},
   "outputs": [],
   "source": []
  }
 ],
 "metadata": {
  "kernelspec": {
   "display_name": "Python 3",
   "language": "python",
   "name": "python3"
  },
  "language_info": {
   "codemirror_mode": {
    "name": "ipython",
    "version": 3
   },
   "file_extension": ".py",
   "mimetype": "text/x-python",
   "name": "python",
   "nbconvert_exporter": "python",
   "pygments_lexer": "ipython3",
   "version": "3.8.3"
  }
 },
 "nbformat": 4,
 "nbformat_minor": 4
}
