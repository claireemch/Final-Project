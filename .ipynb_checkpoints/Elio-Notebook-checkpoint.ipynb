{
 "cells": [
  {
   "cell_type": "code",
   "execution_count": 5,
   "metadata": {},
   "outputs": [
    {
     "data": {
      "text/plain": [
       "neighborhood\n",
       "Allegheny Center       867\n",
       "Allegheny West         386\n",
       "Allentown               84\n",
       "Arlington              107\n",
       "Arlington Heights        5\n",
       "                      ... \n",
       "Upper Lawrenceville    373\n",
       "West End               131\n",
       "West Oakland            78\n",
       "Westwood               260\n",
       "Windgap                110\n",
       "Name: common_name, Length: 90, dtype: int64"
      ]
     },
     "execution_count": 5,
     "metadata": {},
     "output_type": "execute_result"
    }
   ],
   "source": [
    "import pandas as pd\n",
    "import numpy as np\n",
    "%matplotlib inline\n",
    "import matplotlib.pyplot as plt\n",
    "\n",
    "neighborhoods = pd.read_csv(\"trees.csv\")\n",
    "\n",
    "df = pd.DataFrame(neighborhoods)\n",
    "neighborhoods.groupby('neighborhood').count()"
   ]
  },
  {
   "cell_type": "code",
   "execution_count": null,
   "metadata": {},
   "outputs": [],
   "source": []
  }
 ],
 "metadata": {
  "kernelspec": {
   "display_name": "Python 3",
   "language": "python",
   "name": "python3"
  },
  "language_info": {
   "codemirror_mode": {
    "name": "ipython",
    "version": 3
   },
   "file_extension": ".py",
   "mimetype": "text/x-python",
   "name": "python",
   "nbconvert_exporter": "python",
   "pygments_lexer": "ipython3",
   "version": "3.8.3"
  }
 },
 "nbformat": 4,
 "nbformat_minor": 4
}
